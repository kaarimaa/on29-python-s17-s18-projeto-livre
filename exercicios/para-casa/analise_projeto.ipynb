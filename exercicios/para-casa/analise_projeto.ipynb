{
 "cells": [
  {
   "cell_type": "code",
   "execution_count": 88,
   "metadata": {},
   "outputs": [],
   "source": [
    "import sqlite3\n",
    "import csv"
   ]
  },
  {
   "cell_type": "code",
   "execution_count": 89,
   "metadata": {},
   "outputs": [],
   "source": [
    "file = open('vivencia lesb.csv')"
   ]
  },
  {
   "cell_type": "code",
   "execution_count": 90,
   "metadata": {},
   "outputs": [],
   "source": [
    "conteudo = csv.reader(file)"
   ]
  },
  {
   "cell_type": "code",
   "execution_count": 91,
   "metadata": {},
   "outputs": [],
   "source": [
    "connection = sqlite3.connect(\"banco_de_dados_projetoo.db\")"
   ]
  },
  {
   "cell_type": "code",
   "execution_count": 92,
   "metadata": {},
   "outputs": [],
   "source": [
    "cursor = connection.cursor()"
   ]
  },
  {
   "cell_type": "code",
   "execution_count": 96,
   "metadata": {},
   "outputs": [
    {
     "data": {
      "text/plain": [
       "<sqlite3.Cursor at 0x210666cd540>"
      ]
     },
     "execution_count": 96,
     "metadata": {},
     "output_type": "execute_result"
    }
   ],
   "source": [
    "cursor.execute(''' CREATE TABLE IF NOT EXISTS vivencia_lesbica (\n",
    "    id INTEGER PRIMARY KEY AUTOINCREMENT,\n",
    "    local_residencia TEXT,\n",
    "    regiao TEXT,\n",
    "    identificacao_racial_etnica TEXT,\n",
    "    educacao_escolaridade TEXT,\n",
    "    renda_mensal TEXT,\n",
    "    principal_fonte_renda TEXT,\n",
    "    necessidade_complementar_renda TEXT,\n",
    "    estado_civil TEXT,\n",
    "    em_relacao TEXT,\n",
    "    com_quem_mora TEXT,\n",
    "    tipo_moradia TEXT,\n",
    "    tem_filhos TEXT,\n",
    "    saida_armario TEXT,\n",
    "    discriminacao TEXT,\n",
    "    apoio_rede TEXT,\n",
    "    acesso_saude TEXT,\n",
    "    possui_deficiencia TEXT,\n",
    "    acompanhamento_ginecologico TEXT,\n",
    "    utiliza_protecao_sexo TEXT,\n",
    "    experiencia_pessoal TEXT)\n",
    "''')"
   ]
  },
  {
   "cell_type": "code",
   "execution_count": 100,
   "metadata": {},
   "outputs": [],
   "source": [
    "inserir_conteudo = \"\"\"INSERT INTO vivencia_lesbica(local_residencia,regiao,identificacao_racial_etnica,educacao_escolaridade,renda_mensal,principal_fonte_renda,necessidade_complementar_renda,estado_civil,em_relacao,com_quem_mora,tipo_moradia,tem_filhos,saida_armario,discriminacao,apoio_rede,acesso_saude,possui_deficiencia,acompanhamento_ginecologico,utiliza_protecao_sexo,experiencia_pessoal) VALUES(?,?,?,?,?,?,?,?,?,?,?,?,?,?,?,?,?,?,?,?)\"\"\""
   ]
  },
  {
   "cell_type": "code",
   "execution_count": 101,
   "metadata": {},
   "outputs": [
    {
     "ename": "ProgrammingError",
     "evalue": "Incorrect number of bindings supplied. The current statement uses 20, and there are 21 supplied.",
     "output_type": "error",
     "traceback": [
      "\u001b[1;31m---------------------------------------------------------------------------\u001b[0m",
      "\u001b[1;31mProgrammingError\u001b[0m                          Traceback (most recent call last)",
      "Cell \u001b[1;32mIn[101], line 1\u001b[0m\n\u001b[1;32m----> 1\u001b[0m \u001b[43mcursor\u001b[49m\u001b[38;5;241;43m.\u001b[39;49m\u001b[43mexecutemany\u001b[49m\u001b[43m(\u001b[49m\u001b[43minserir_conteudo\u001b[49m\u001b[43m,\u001b[49m\u001b[43m \u001b[49m\u001b[43mconteudo\u001b[49m\u001b[43m)\u001b[49m\n",
      "\u001b[1;31mProgrammingError\u001b[0m: Incorrect number of bindings supplied. The current statement uses 20, and there are 21 supplied."
     ]
    }
   ],
   "source": [
    "cursor.executemany(inserir_conteudo, conteudo)"
   ]
  },
  {
   "cell_type": "markdown",
   "metadata": {},
   "source": [
    "Tentei executar várias vezes e não econtrei o erro. Depois de muito tempo tentando entender o erro, continuei a executar o código e consegui."
   ]
  },
  {
   "cell_type": "code",
   "execution_count": 102,
   "metadata": {},
   "outputs": [],
   "source": [
    "selecionar_tudo = \"SELECT * FROM vivencia_lesbica\"\n"
   ]
  },
  {
   "cell_type": "code",
   "execution_count": 103,
   "metadata": {},
   "outputs": [],
   "source": [
    "entradas = cursor.execute(selecionar_tudo).fetchall()"
   ]
  },
  {
   "cell_type": "code",
   "execution_count": 104,
   "metadata": {},
   "outputs": [],
   "source": [
    "for entrada in entradas:\n",
    "    print(entrada)"
   ]
  },
  {
   "cell_type": "code",
   "execution_count": 105,
   "metadata": {},
   "outputs": [],
   "source": [
    "connection.commit()"
   ]
  },
  {
   "cell_type": "code",
   "execution_count": 106,
   "metadata": {},
   "outputs": [],
   "source": [
    "connection.close()"
   ]
  }
 ],
 "metadata": {
  "kernelspec": {
   "display_name": "Python 3",
   "language": "python",
   "name": "python3"
  },
  "language_info": {
   "codemirror_mode": {
    "name": "ipython",
    "version": 3
   },
   "file_extension": ".py",
   "mimetype": "text/x-python",
   "name": "python",
   "nbconvert_exporter": "python",
   "pygments_lexer": "ipython3",
   "version": "3.12.3"
  }
 },
 "nbformat": 4,
 "nbformat_minor": 2
}
